{
  "nbformat": 4,
  "nbformat_minor": 0,
  "metadata": {
    "colab": {
      "name": "ML_Lab_W13",
      "provenance": [],
      "collapsed_sections": [],
      "authorship_tag": "ABX9TyMFyqLlBB8PtbytYe7cKQJ0",
      "include_colab_link": true
    },
    "kernelspec": {
      "name": "python3",
      "display_name": "Python 3"
    },
    "language_info": {
      "name": "python"
    }
  },
  "cells": [
    {
      "cell_type": "markdown",
      "metadata": {
        "id": "view-in-github",
        "colab_type": "text"
      },
      "source": [
        "<a href=\"https://colab.research.google.com/github/putriarta/putriarta/blob/main/ML_Lab_W13.ipynb\" target=\"_parent\"><img src=\"https://colab.research.google.com/assets/colab-badge.svg\" alt=\"Open In Colab\"/></a>"
      ]
    },
    {
      "cell_type": "code",
      "metadata": {
        "colab": {
          "base_uri": "https://localhost:8080/",
          "height": 228
        },
        "id": "4qTcDRJTuBb5",
        "outputId": "57d43aa7-c095-48df-fca7-04e5cdc525ae"
      },
      "source": [
        "from sklearn import datasets, metrics\n",
        "import matplotlib.pyplot as plt\n",
        "%matplotlib inline\n",
        "\n",
        "digits = datasets.load_digits()\n",
        "\n",
        "plt.figure(figsize=(3, 3))\n",
        "plt.imshow(digits.images[10], cmap=plt.cm.gray_r)"
      ],
      "execution_count": null,
      "outputs": [
        {
          "output_type": "execute_result",
          "data": {
            "text/plain": [
              "<matplotlib.image.AxesImage at 0x7f4e101c9fd0>"
            ]
          },
          "metadata": {
            "tags": []
          },
          "execution_count": 1
        },
        {
          "output_type": "display_data",
          "data": {
            "image/png": "[encoded data removed]",
            "text/plain": [
              "<Figure size 216x216 with 1 Axes>"
            ]
          },
          "metadata": {
            "tags": [],
            "needs_background": "light"
          }
        }
      ]
    },
    {
      "cell_type": "code",
      "metadata": {
        "colab": {
          "base_uri": "https://localhost:8080/"
        },
        "id": "zDV8nF9IvQRK",
        "outputId": "edd97977-2a72-4a1c-834a-277ed059aff0"
      },
      "source": [
        "digits.images[10]"
      ],
      "execution_count": null,
      "outputs": [
        {
          "output_type": "execute_result",
          "data": {
            "text/plain": [
              "array([[ 0.,  0.,  1.,  9., 15., 11.,  0.,  0.],\n",
              "       [ 0.,  0., 11., 16.,  8., 14.,  6.,  0.],\n",
              "       [ 0.,  2., 16., 10.,  0.,  9.,  9.,  0.],\n",
              "       [ 0.,  1., 16.,  4.,  0.,  8.,  8.,  0.],\n",
              "       [ 0.,  4., 16.,  4.,  0.,  8.,  8.,  0.],\n",
              "       [ 0.,  1., 16.,  5.,  1., 11.,  3.,  0.],\n",
              "       [ 0.,  0., 12., 12., 10., 10.,  0.,  0.],\n",
              "       [ 0.,  0.,  1., 10., 13.,  3.,  0.,  0.]])"
            ]
          },
          "metadata": {
            "tags": []
          },
          "execution_count": 2
        }
      ]
    },
    {
      "cell_type": "code",
      "metadata": {
        "colab": {
          "base_uri": "https://localhost:8080/"
        },
        "id": "CVu-Jt6Fvb8h",
        "outputId": "481a625f-c47b-4493-e058-4387fdcfaaaa"
      },
      "source": [
        "digits.data[10]"
      ],
      "execution_count": null,
      "outputs": [
        {
          "output_type": "execute_result",
          "data": {
            "text/plain": [
              "array([ 0.,  0.,  1.,  9., 15., 11.,  0.,  0.,  0.,  0., 11., 16.,  8.,\n",
              "       14.,  6.,  0.,  0.,  2., 16., 10.,  0.,  9.,  9.,  0.,  0.,  1.,\n",
              "       16.,  4.,  0.,  8.,  8.,  0.,  0.,  4., 16.,  4.,  0.,  8.,  8.,\n",
              "        0.,  0.,  1., 16.,  5.,  1., 11.,  3.,  0.,  0.,  0., 12., 12.,\n",
              "       10., 10.,  0.,  0.,  0.,  0.,  1., 10., 13.,  3.,  0.,  0.])"
            ]
          },
          "metadata": {
            "tags": []
          },
          "execution_count": 3
        }
      ]
    },
    {
      "cell_type": "code",
      "metadata": {
        "colab": {
          "base_uri": "https://localhost:8080/"
        },
        "id": "dWo1pgWivd3M",
        "outputId": "cbf13686-bf03-407e-feb0-04d0e00e2059"
      },
      "source": [
        "digits.target[10]"
      ],
      "execution_count": null,
      "outputs": [
        {
          "output_type": "execute_result",
          "data": {
            "text/plain": [
              "0"
            ]
          },
          "metadata": {
            "tags": []
          },
          "execution_count": 4
        }
      ]
    },
    {
      "cell_type": "code",
      "metadata": {
        "colab": {
          "base_uri": "https://localhost:8080/"
        },
        "id": "pnIF3ZMqvgsv",
        "outputId": "cb124be7-07ba-4720-9d12-a4670738ae4c"
      },
      "source": [
        "X_digits = digits.data\n",
        "y_digits = digits.target\n",
        "\n",
        "num_data_points = len(X_digits)\n",
        "\n",
        "X_train = X_digits[:int(.7 * num_data_points)]\n",
        "y_train = y_digits[:int(.7 * num_data_points)]\n",
        "X_test = X_digits[int(.7 * num_data_points):]\n",
        "y_test = y_digits[int(.7 * num_data_points):]\n",
        "print(X_train.shape, X_test.shape)"
      ],
      "execution_count": null,
      "outputs": [
        {
          "output_type": "stream",
          "text": [
            "(1257, 64) (540, 64)\n"
          ],
          "name": "stdout"
        }
      ]
    },
    {
      "cell_type": "code",
      "metadata": {
        "colab": {
          "base_uri": "https://localhost:8080/"
        },
        "id": "Lid9jazPxoXt",
        "outputId": "ca995a19-7225-423c-8e90-2e84e64d7563"
      },
      "source": [
        "from sklearn import linear_model\n",
        "logistic = linear_model.LogisticRegression()\n",
        "logistic.fit(X_train, y_train)"
      ],
      "execution_count": null,
      "outputs": [
        {
          "output_type": "stream",
          "text": [
            "/usr/local/lib/python3.7/dist-packages/sklearn/linear_model/_logistic.py:940: ConvergenceWarning: lbfgs failed to converge (status=1):\n",
            "STOP: TOTAL NO. of ITERATIONS REACHED LIMIT.\n",
            "\n",
            "Increase the number of iterations (max_iter) or scale the data as shown in:\n",
            "    https://scikit-learn.org/stable/modules/preprocessing.html\n",
            "Please also refer to the documentation for alternative solver options:\n",
            "    https://scikit-learn.org/stable/modules/linear_model.html#logistic-regression\n",
            "  extra_warning_msg=_LOGISTIC_SOLVER_CONVERGENCE_MSG)\n"
          ],
          "name": "stderr"
        },
        {
          "output_type": "execute_result",
          "data": {
            "text/plain": [
              "LogisticRegression(C=1.0, class_weight=None, dual=False, fit_intercept=True,\n",
              "                   intercept_scaling=1, l1_ratio=None, max_iter=100,\n",
              "                   multi_class='auto', n_jobs=None, penalty='l2',\n",
              "                   random_state=None, solver='lbfgs', tol=0.0001, verbose=0,\n",
              "                   warm_start=False)"
            ]
          },
          "metadata": {
            "tags": []
          },
          "execution_count": 6
        }
      ]
    },
    {
      "cell_type": "code",
      "metadata": {
        "colab": {
          "base_uri": "https://localhost:8080/"
        },
        "id": "qtG70cPfx68t",
        "outputId": "69db9594-9ecc-42f1-9e0d-a0396c859232"
      },
      "source": [
        " print('Logistic Regression mean accuracy: %f' % logistic.score(X_test, y_test))"
      ],
      "execution_count": null,
      "outputs": [
        {
          "output_type": "stream",
          "text": [
            "Logistic Regression mean accuracy: 0.912963\n"
          ],
          "name": "stdout"
        }
      ]
    },
    {
      "cell_type": "markdown",
      "metadata": {
        "id": "BtT4nf-yyTX3"
      },
      "source": [
        "#### Evaluating the Clustering"
      ]
    },
    {
      "cell_type": "code",
      "metadata": {
        "colab": {
          "base_uri": "https://localhost:8080/"
        },
        "id": "HrxYwJcdyRcV",
        "outputId": "042d7525-121b-4611-e5f8-77b59eda0fb2"
      },
      "source": [
        "import numpy as np\n",
        "from sklearn.datasets import load_breast_cancer\n",
        "# load data\n",
        "data = load_breast_cancer()\n",
        "X = data.data\n",
        "y = data.target\n",
        "print(X.shape, data.feature_names)"
      ],
      "execution_count": null,
      "outputs": [
        {
          "output_type": "stream",
          "text": [
            "(569, 30) ['mean radius' 'mean texture' 'mean perimeter' 'mean area'\n",
            " 'mean smoothness' 'mean compactness' 'mean concavity'\n",
            " 'mean concave points' 'mean symmetry' 'mean fractal dimension'\n",
            " 'radius error' 'texture error' 'perimeter error' 'area error'\n",
            " 'smoothness error' 'compactness error' 'concavity error'\n",
            " 'concave points error' 'symmetry error' 'fractal dimension error'\n",
            " 'worst radius' 'worst texture' 'worst perimeter' 'worst area'\n",
            " 'worst smoothness' 'worst compactness' 'worst concavity'\n",
            " 'worst concave points' 'worst symmetry' 'worst fractal dimension']\n"
          ],
          "name": "stdout"
        }
      ]
    },
    {
      "cell_type": "markdown",
      "metadata": {
        "id": "TRy8bFI_ycrt"
      },
      "source": [
        "##### Partitioning Based Clustering"
      ]
    },
    {
      "cell_type": "code",
      "metadata": {
        "colab": {
          "base_uri": "https://localhost:8080/"
        },
        "id": "jKq6gBlNygGJ",
        "outputId": "d5cf40f9-d25e-44b8-9576-b56f6b515aea"
      },
      "source": [
        "from sklearn.cluster import KMeans\n",
        "km = KMeans(n_clusters=2, random_state=2)\n",
        "km.fit(X)\n",
        "labels = km.labels_\n",
        "centers = km.cluster_centers_\n",
        "print(labels[:10])"
      ],
      "execution_count": null,
      "outputs": [
        {
          "output_type": "stream",
          "text": [
            "[1 1 1 0 1 0 1 0 0 0]\n"
          ],
          "name": "stdout"
        }
      ]
    },
    {
      "cell_type": "code",
      "metadata": {
        "id": "GwItA1OaykaK"
      },
      "source": [
        "from sklearn.decomposition import PCA\n",
        "pca = PCA(n_components=2)\n",
        "bc_pca = pca.fit_transform(X)\n"
      ],
      "execution_count": null,
      "outputs": []
    },
    {
      "cell_type": "code",
      "metadata": {
        "colab": {
          "base_uri": "https://localhost:8080/",
          "height": 294
        },
        "id": "PU_RH7p5y0YO",
        "outputId": "c8fd5cf2-4cd7-41c5-ae4e-7c5ba44433c8"
      },
      "source": [
        "fig, (ax1, ax2) = plt.subplots(1, 2, figsize=(8, 4))\n",
        "fig.suptitle('Visualizing breast cancer clusters')\n",
        "fig.subplots_adjust(top=0.85, wspace=0.5)\n",
        "ax1.set_title('Actual Labels')\n",
        "ax2.set_title('Clustered Labels')\n",
        "for i in range(len(y)):\n",
        "  if y[i] == 0:\n",
        "    c1 = ax1.scatter(bc_pca[i,0], bc_pca[i,1],c='g', marker='.')\n",
        "  if y[i] == 1:\n",
        "    c2 = ax1.scatter(bc_pca[i,0], bc_pca[i,1],c='r', marker='.')\n",
        "    \n",
        "  if labels[i] == 0:\n",
        "    c3 = ax2.scatter(bc_pca[i,0], bc_pca[i,1],c='g', marker='.')\n",
        "  if labels[i] == 1:\n",
        "    c4 = ax2.scatter(bc_pca[i,0], bc_pca[i,1],c='r', marker='.')\n",
        "    \n",
        "l1 = ax1.legend([c1, c2], ['0', '1'])\n",
        "l2 = ax2.legend([c3, c4], ['0', '1'])\n"
      ],
      "execution_count": null,
      "outputs": [
        {
          "output_type": "display_data",
          "data": {
            "image/png": "[encoded data removed]",
            "text/plain": [
              "<Figure size 576x288 with 2 Axes>"
            ]
          },
          "metadata": {
            "tags": [],
            "needs_background": "light"
          }
        }
      ]
    },
    {
      "cell_type": "markdown",
      "metadata": {
        "id": "mNne2xczzC-P"
      },
      "source": [
        "##### Hierarchical Clustering"
      ]
    },
    {
      "cell_type": "code",
      "metadata": {
        "colab": {
          "base_uri": "https://localhost:8080/"
        },
        "id": "eYsBWmXDzBia",
        "outputId": "68730040-553a-4150-b88a-28d75c5130b1"
      },
      "source": [
        "from scipy.cluster.hierarchy import dendrogram, linkage\n",
        "import numpy as np\n",
        "np.set_printoptions(suppress=True)\n",
        "Z = linkage(X, 'ward')\n",
        "print(Z)"
      ],
      "execution_count": null,
      "outputs": [
        {
          "output_type": "stream",
          "text": [
            "[[  287.           336.             3.81596727     2.        ]\n",
            " [  106.           420.             4.11664267     2.        ]\n",
            " [   55.           251.             4.93361024     2.        ]\n",
            " ...\n",
            " [ 1130.          1132.          6196.07482529    86.        ]\n",
            " [ 1131.          1133.          8368.99225244   483.        ]\n",
            " [ 1134.          1135.         18371.10293626   569.        ]]\n"
          ],
          "name": "stdout"
        }
      ]
    },
    {
      "cell_type": "code",
      "metadata": {
        "colab": {
          "base_uri": "https://localhost:8080/",
          "height": 241
        },
        "id": "dOVeVkrrzIEx",
        "outputId": "49adfbf1-2e36-451d-c726-94f1702f6cc6"
      },
      "source": [
        "plt.figure(figsize=(8, 3))\n",
        "plt.title('Hierarchical Clustering Dendrogram')\n",
        "plt.xlabel('Data point')\n",
        "plt.ylabel('Distance')\n",
        "dendrogram(Z)\n",
        "plt.axhline(y=10000, c='k', ls='--', lw=0.5)\n",
        "plt.show() "
      ],
      "execution_count": null,
      "outputs": [
        {
          "output_type": "display_data",
          "data": {
            "image/png": "[encoded data removed]",
            "text/plain": [
              "<Figure size 576x216 with 1 Axes>"
            ]
          },
          "metadata": {
            "tags": [],
            "needs_background": "light"
          }
        }
      ]
    },
    {
      "cell_type": "code",
      "metadata": {
        "id": "okyerFRAzK75"
      },
      "source": [
        "from scipy.cluster.hierarchy import fcluster\n",
        "max_dist = 10000\n",
        "hc_labels = fcluster(Z, max_dist, criterion='distance') "
      ],
      "execution_count": null,
      "outputs": []
    },
    {
      "cell_type": "code",
      "metadata": {
        "colab": {
          "base_uri": "https://localhost:8080/",
          "height": 294
        },
        "id": "t0-Gu9h4zYc_",
        "outputId": "ddcd0a9b-c79d-4e52-c8ac-56be629aa5e8"
      },
      "source": [
        "fig, (ax1, ax2) = plt.subplots(1, 2, figsize=(8, 4))\n",
        "fig.suptitle('Visualizing breast cancer clusters')\n",
        "fig.subplots_adjust(top=0.85, wspace=0.5)\n",
        "ax1.set_title('Actual Labels')\n",
        "ax2.set_title('Hierarchical Clustered Labels')\n",
        "for i in range(len(y)):\n",
        "  if y[i] == 0:\n",
        "    c1 = ax1.scatter(bc_pca[i,0], bc_pca[i,1],c='g', marker='.')\n",
        "  if y[i] == 1:\n",
        "    c2 = ax1.scatter(bc_pca[i,0], bc_pca[i,1],c='r', marker='.')\n",
        "    \n",
        "  if hc_labels[i] == 0:\n",
        "    c3 = ax2.scatter(bc_pca[i,0], bc_pca[i,1],c='g', marker='.')\n",
        "  if hc_labels[i] == 1:\n",
        "    c4 = ax2.scatter(bc_pca[i,0], bc_pca[i,1],c='r', marker='.')\n",
        "    \n",
        "l1 = ax1.legend([c1, c2], ['0', '1'])\n",
        "l2 = ax2.legend([c3, c4], ['1', '2'])"
      ],
      "execution_count": null,
      "outputs": [
        {
          "output_type": "display_data",
          "data": {
            "image/png": "[encoded data removed]",
            "text/plain": [
              "<Figure size 576x288 with 2 Axes>"
            ]
          },
          "metadata": {
            "tags": [],
            "needs_background": "light"
          }
        }
      ]
    },
    {
      "cell_type": "markdown",
      "metadata": {
        "id": "AfbiKnUT0soH"
      },
      "source": [
        "#### Model Evaluation"
      ]
    },
    {
      "cell_type": "markdown",
      "metadata": {
        "id": "X52y0XKA0vpV"
      },
      "source": [
        "Evaluating Classification Models"
      ]
    },
    {
      "cell_type": "code",
      "metadata": {
        "colab": {
          "base_uri": "https://localhost:8080/"
        },
        "id": "ZOmzAXYx0qwM",
        "outputId": "d11c889e-dded-4116-d659-b516934d0300"
      },
      "source": [
        "from sklearn.model_selection import train_test_split\n",
        "X_train, X_test, y_train, y_test = train_test_split(X, y, test_size=0.3, random_state=42)\n",
        "print(X_train.shape, X_test.shape)"
      ],
      "execution_count": null,
      "outputs": [
        {
          "output_type": "stream",
          "text": [
            "(398, 30) (171, 30)\n"
          ],
          "name": "stdout"
        }
      ]
    },
    {
      "cell_type": "markdown",
      "metadata": {
        "id": "hIUhVKRJ1Jn7"
      },
      "source": [
        "Confusion Matrix"
      ]
    },
    {
      "cell_type": "code",
      "metadata": {
        "colab": {
          "base_uri": "https://localhost:8080/"
        },
        "id": "gHTOPuLm1LsS",
        "outputId": "509a15d3-4528-4376-f5b9-0586fb5ba7c4"
      },
      "source": [
        "from sklearn import linear_model\n",
        "\n",
        "# train and build the model\n",
        "logistic = linear_model.LogisticRegression()\n",
        "logistic.fit(X_train,y_train)"
      ],
      "execution_count": null,
      "outputs": [
        {
          "output_type": "stream",
          "text": [
            "/usr/local/lib/python3.7/dist-packages/sklearn/linear_model/_logistic.py:940: ConvergenceWarning: lbfgs failed to converge (status=1):\n",
            "STOP: TOTAL NO. of ITERATIONS REACHED LIMIT.\n",
            "\n",
            "Increase the number of iterations (max_iter) or scale the data as shown in:\n",
            "    https://scikit-learn.org/stable/modules/preprocessing.html\n",
            "Please also refer to the documentation for alternative solver options:\n",
            "    https://scikit-learn.org/stable/modules/linear_model.html#logistic-regression\n",
            "  extra_warning_msg=_LOGISTIC_SOLVER_CONVERGENCE_MSG)\n"
          ],
          "name": "stderr"
        },
        {
          "output_type": "execute_result",
          "data": {
            "text/plain": [
              "LogisticRegression(C=1.0, class_weight=None, dual=False, fit_intercept=True,\n",
              "                   intercept_scaling=1, l1_ratio=None, max_iter=100,\n",
              "                   multi_class='auto', n_jobs=None, penalty='l2',\n",
              "                   random_state=None, solver='lbfgs', tol=0.0001, verbose=0,\n",
              "                   warm_start=False)"
            ]
          },
          "metadata": {
            "tags": []
          },
          "execution_count": 17
        }
      ]
    },
    {
      "cell_type": "code",
      "metadata": {
        "id": "fNE-Qr5x6OF0"
      },
      "source": [
        ""
      ],
      "execution_count": null,
      "outputs": []
    },
    {
      "cell_type": "code",
      "metadata": {
        "colab": {
          "base_uri": "https://localhost:8080/"
        },
        "id": "b-CmyHK36YPe",
        "outputId": "d3ccd530-a968-42af-9365-6aecf22ff4e7"
      },
      "source": [
        "from google.colab import drive\n",
        "drive.mount('/gdrive')\n",
        "%cd /gdrive"
      ],
      "execution_count": null,
      "outputs": [
        {
          "output_type": "stream",
          "text": [
            "Drive already mounted at /gdrive; to attempt to forcibly remount, call drive.mount(\"/gdrive\", force_remount=True).\n",
            "/gdrive\n"
          ],
          "name": "stdout"
        }
      ]
    },
    {
      "cell_type": "code",
      "metadata": {
        "colab": {
          "base_uri": "https://localhost:8080/"
        },
        "id": "1S9peA3R2WXi",
        "outputId": "f5f7acff-425f-4598-da65-99c67cc1cb24"
      },
      "source": [
        "%cd 'My Drive/'"
      ],
      "execution_count": null,
      "outputs": [
        {
          "output_type": "stream",
          "text": [
            "/gdrive/My Drive\n"
          ],
          "name": "stdout"
        }
      ]
    },
    {
      "cell_type": "code",
      "metadata": {
        "colab": {
          "base_uri": "https://localhost:8080/"
        },
        "id": "trDg5cSt1b6Q",
        "outputId": "2e41c504-fcde-4763-f4ff-13d9852e9ad5"
      },
      "source": [
        "#predict on test data and view confusion matrix\n",
        "import model_evaluation_utils as meu\n",
        "\n",
        "y_pred = logistic.predict(X_test)\n",
        "meu.display_confusion_matrix(true_labels=y_test, predicted_labels=y_pred, classes=[0, 1])"
      ],
      "execution_count": null,
      "outputs": [
        {
          "output_type": "stream",
          "text": [
            "          Predicted:     \n",
            "                   0    1\n",
            "Actual: 0         59    4\n",
            "        1          1  107\n"
          ],
          "name": "stdout"
        }
      ]
    },
    {
      "cell_type": "code",
      "metadata": {
        "id": "SDigUYU57Dgv"
      },
      "source": [
        "positive_class = 1\n",
        "TP = 106\n",
        "FP = 4\n",
        "TN = 59\n",
        "FN = 2"
      ],
      "execution_count": null,
      "outputs": []
    },
    {
      "cell_type": "markdown",
      "metadata": {
        "id": "n6LYYesS7MeU"
      },
      "source": [
        "Performance Metrics"
      ]
    },
    {
      "cell_type": "code",
      "metadata": {
        "colab": {
          "base_uri": "https://localhost:8080/"
        },
        "id": "owgnz-2N7VmT",
        "outputId": "81d35c79-1fad-499e-95d7-a095bb0d8fea"
      },
      "source": [
        "#Accuracy\n",
        "fw_acc = round(meu.metrics.accuracy_score(y_true=y_test, y_pred=y_pred), 5)\n",
        "mc_acc = round((TP + TN) / (TP + TN + FP + FN), 5)\n",
        "print('Framework Accuracy:', fw_acc)\n",
        "print('Manually Computed Accuracy:', mc_acc)"
      ],
      "execution_count": null,
      "outputs": [
        {
          "output_type": "stream",
          "text": [
            "Framework Accuracy: 0.97076\n",
            "Manually Computed Accuracy: 0.96491\n"
          ],
          "name": "stdout"
        }
      ]
    },
    {
      "cell_type": "code",
      "metadata": {
        "colab": {
          "base_uri": "https://localhost:8080/"
        },
        "id": "kw3aaVf87WZt",
        "outputId": "284e51da-15e3-47a9-bf87-527a3d2c433f"
      },
      "source": [
        "#Precision\n",
        "fw_prec = round(meu.metrics.precision_score(y_true=y_test, y_pred=y_pred), 5)\n",
        "mc_prec = round((TP) / (TP + FP), 5)\n",
        "print('Framework Precision:', fw_prec)\n",
        "print('Manually Computed Precision:', mc_prec)"
      ],
      "execution_count": null,
      "outputs": [
        {
          "output_type": "stream",
          "text": [
            "Framework Precision: 0.96396\n",
            "Manually Computed Precision: 0.96364\n"
          ],
          "name": "stdout"
        }
      ]
    },
    {
      "cell_type": "code",
      "metadata": {
        "colab": {
          "base_uri": "https://localhost:8080/"
        },
        "id": "6pl1H84Y7eiI",
        "outputId": "2dcdb9c8-8ff7-4be4-ecaf-6546a8f8f9c2"
      },
      "source": [
        "#Recall\n",
        "fw_rec = round(meu.metrics.recall_score(y_true=y_test, y_pred=y_pred), 5)\n",
        "mc_rec = round((TP) / (TP + FN), 5)\n",
        "print('Framework Recall:', fw_rec)\n",
        "print('Manually Computed Recall:', mc_rec)"
      ],
      "execution_count": null,
      "outputs": [
        {
          "output_type": "stream",
          "text": [
            "Framework Recall: 0.99074\n",
            "Manually Computed Recall: 0.98148\n"
          ],
          "name": "stdout"
        }
      ]
    },
    {
      "cell_type": "code",
      "metadata": {
        "colab": {
          "base_uri": "https://localhost:8080/"
        },
        "id": "uWM4OqrT7yCo",
        "outputId": "ece8695e-02c2-4c91-d317-e1bfac0125ac"
      },
      "source": [
        "#F1 Score\n",
        "fw_f1 = round(meu.metrics.f1_score(y_true=y_test, y_pred=y_pred), 5)\n",
        "mc_f1 = round((2*mc_prec*mc_rec) / (mc_prec+mc_rec), 5)\n",
        "print('Framework F1-Score:', fw_f1)\n",
        "print('Manually Computed F1-Score:', mc_f1)"
      ],
      "execution_count": null,
      "outputs": [
        {
          "output_type": "stream",
          "text": [
            "Framework F1-Score: 0.97717\n",
            "Manually Computed F1-Score: 0.97248\n"
          ],
          "name": "stdout"
        }
      ]
    },
    {
      "cell_type": "code",
      "metadata": {
        "colab": {
          "base_uri": "https://localhost:8080/",
          "height": 294
        },
        "id": "y7k4OE-r76g8",
        "outputId": "ddfe99d0-4155-4624-844a-0e9e70ad3875"
      },
      "source": [
        "#ROC Curve\n",
        "meu.plot_model_roc_curve(clf=logistic, features=X_test, true_labels=y_test)"
      ],
      "execution_count": null,
      "outputs": [
        {
          "output_type": "display_data",
          "data": {
            "image/png": "[encoded data removed]",
            "text/plain": [
              "<Figure size 432x288 with 1 Axes>"
            ]
          },
          "metadata": {
            "tags": [],
            "needs_background": "light"
          }
        }
      ]
    },
    {
      "cell_type": "markdown",
      "metadata": {
        "id": "QZpppVOn8C3M"
      },
      "source": [
        "Evaluating Clustering Models"
      ]
    },
    {
      "cell_type": "code",
      "metadata": {
        "id": "anT-nX7L78cX"
      },
      "source": [
        "km2 = KMeans(n_clusters=2, random_state=42).fit(X)\n",
        "km2_labels = km2.labels_\n",
        "\n",
        "km5 = KMeans(n_clusters=5, random_state=42).fit(X)\n",
        "km5_labels = km5.labels_"
      ],
      "execution_count": null,
      "outputs": []
    },
    {
      "cell_type": "code",
      "metadata": {
        "colab": {
          "base_uri": "https://localhost:8080/"
        },
        "id": "qZXMTFak8KUa",
        "outputId": "e01fb86a-f045-4401-f6ed-b69c78fa3178"
      },
      "source": [
        "#External Validation\n",
        "km2_hcv = np.round(metrics.homogeneity_completeness_v_measure(y, km2_labels), 3)\n",
        "km5_hcv = np.round(metrics.homogeneity_completeness_v_measure(y, km5_labels), 3)\n",
        "\n",
        "print('Homogeneity, Completeness, V-measure metrics for num clusters=2: ', km2_hcv)\n",
        "print('Homogeneity, Completeness, V-measure metrics for num clusters=5: ', km5_hcv)"
      ],
      "execution_count": null,
      "outputs": [
        {
          "output_type": "stream",
          "text": [
            "Homogeneity, Completeness, V-measure metrics for num clusters=2:  [0.422 0.517 0.465]\n",
            "Homogeneity, Completeness, V-measure metrics for num clusters=5:  [0.602 0.299 0.399]\n"
          ],
          "name": "stdout"
        }
      ]
    },
    {
      "cell_type": "code",
      "metadata": {
        "colab": {
          "base_uri": "https://localhost:8080/"
        },
        "id": "-q62S1S-8RHo",
        "outputId": "a75cc208-33ff-4b51-b798-498d1d2b772f"
      },
      "source": [
        "#Internal Validation\n",
        "from sklearn import metrics\n",
        "\n",
        "km2_silc = metrics.silhouette_score(X, km2_labels, metric='euclidean')\n",
        "km5_silc = metrics.silhouette_score(X, km5_labels, metric='euclidean')\n",
        "\n",
        "print('Silhouette Coefficient for num clusters=2: ', km2_silc)\n",
        "print('Silhouette Coefficient for num clusters=5: ', km5_silc)"
      ],
      "execution_count": null,
      "outputs": [
        {
          "output_type": "stream",
          "text": [
            "Silhouette Coefficient for num clusters=2:  0.6972646156059464\n",
            "Silhouette Coefficient for num clusters=5:  0.5120588504057626\n"
          ],
          "name": "stdout"
        }
      ]
    },
    {
      "cell_type": "markdown",
      "metadata": {
        "id": "3UoGhZUp8ckh"
      },
      "source": [
        "Evaluating Regression Model"
      ]
    },
    {
      "cell_type": "code",
      "metadata": {
        "id": "bhPRbDcN8cGQ"
      },
      "source": [
        "#MSE\n",
        "\n",
        "from sklearn.datasets import make_regression\n",
        "from sklearn.model_selection import cross_val_score\n",
        "from sklearn.linear_model import LinearRegression"
      ],
      "execution_count": null,
      "outputs": []
    },
    {
      "cell_type": "code",
      "metadata": {
        "id": "Wd3lWvFEG0NF"
      },
      "source": [
        "feature, target = make_regression(n_samples=100,\n",
        "                                  n_features=3,\n",
        "                                  n_informative=3,\n",
        "                                  n_targets=1,\n",
        "                                  noise=1,\n",
        "                                  coef=False,\n",
        "                                  random_state=1)"
      ],
      "execution_count": null,
      "outputs": []
    },
    {
      "cell_type": "code",
      "metadata": {
        "id": "ZseaGJPqHJjX"
      },
      "source": [
        "ols = LinearRegression()"
      ],
      "execution_count": null,
      "outputs": []
    },
    {
      "cell_type": "code",
      "metadata": {
        "colab": {
          "base_uri": "https://localhost:8080/"
        },
        "id": "NLISKECfHNXG",
        "outputId": "f43d0492-1867-41d0-b904-a484d50b4e3e"
      },
      "source": [
        "cross_val_score(ols, feature, target, scoring='neg_mean_squared_error')"
      ],
      "execution_count": null,
      "outputs": [
        {
          "output_type": "execute_result",
          "data": {
            "text/plain": [
              "array([-0.78986135, -0.80181655, -1.57407742, -0.42401745, -0.63949642])"
            ]
          },
          "metadata": {
            "tags": []
          },
          "execution_count": 33
        }
      ]
    },
    {
      "cell_type": "markdown",
      "metadata": {
        "id": "Z5vPXBGy-c10"
      },
      "source": [
        "##### Model Tuning"
      ]
    },
    {
      "cell_type": "markdown",
      "metadata": {
        "id": "kNBoXYVC-sv_"
      },
      "source": [
        "Hyperparameter Tuning Strategies "
      ]
    },
    {
      "cell_type": "code",
      "metadata": {
        "colab": {
          "base_uri": "https://localhost:8080/"
        },
        "id": "z34Xn10Q-cGK",
        "outputId": "17ca8561-eebb-49c4-f397-82c0f62a7c12"
      },
      "source": [
        "from sklearn.model_selection import train_test_split\n",
        "from sklearn.svm import SVC\n",
        "\n",
        "# prepare datasets\n",
        "X_train, X_test, y_train, y_test = train_test_split(X, y, test_size=0.3, random_state=42)\n",
        "\n",
        "# build default SVM model\n",
        "def_svc = SVC(random_state=42)\n",
        "def_svc.fit(X_train, y_train)\n",
        "\n",
        "# predict and evaluate performance\n",
        "def_y_pred = def_svc.predict(X_test)\n",
        "print('Default Model Stats:')\n",
        "meu.display_model_performance_metrics(true_labels=y_test, predicted_labels=def_y_pred, classes=[0,1])"
      ],
      "execution_count": null,
      "outputs": [
        {
          "output_type": "stream",
          "text": [
            "Default Model Stats:\n",
            "Model Performance metrics:\n",
            "------------------------------\n",
            "Accuracy: 0.9357\n",
            "Precision: 0.9416\n",
            "Recall: 0.9357\n",
            "F1 Score: 0.9342\n",
            "\n",
            "Model Classification report:\n",
            "------------------------------\n",
            "              precision    recall  f1-score   support\n",
            "\n",
            "           0       1.00      0.83      0.90        63\n",
            "           1       0.91      1.00      0.95       108\n",
            "\n",
            "    accuracy                           0.94       171\n",
            "   macro avg       0.95      0.91      0.93       171\n",
            "weighted avg       0.94      0.94      0.93       171\n",
            "\n",
            "\n",
            "Prediction Confusion Matrix:\n",
            "------------------------------\n",
            "          Predicted:     \n",
            "                   0    1\n",
            "Actual: 0         52   11\n",
            "        1          0  108\n"
          ],
          "name": "stdout"
        }
      ]
    },
    {
      "cell_type": "code",
      "metadata": {
        "colab": {
          "base_uri": "https://localhost:8080/"
        },
        "id": "c0LLR-co-3gk",
        "outputId": "5aff4e44-9b79-46a5-fd0d-6b87a36fb6f6"
      },
      "source": [
        "from sklearn.model_selection import GridSearchCV\n",
        "\n",
        "# setting the parameter grid\n",
        "grid_parameters = {'kernel': ['linear', 'rbf'], \n",
        "                   'gamma': [1e-3, 1e-4],\n",
        "                   'C': [1, 10, 50, 100]}\n",
        "\n",
        "# perform hyperparameter tuning\n",
        "print(\"# Tuning hyper-parameters for accuracy\\n\")\n",
        "clf = GridSearchCV(SVC(random_state=42), grid_parameters, cv=5, scoring='accuracy')\n",
        "clf.fit(X_train, y_train)\n",
        "\n",
        "# view accuracy scores for all the models\n",
        "print(\"Grid scores for all the models based on CV:\\n\")\n",
        "means = clf.cv_results_['mean_test_score']\n",
        "stds = clf.cv_results_['std_test_score']\n",
        "for mean, std, params in zip(means, stds, clf.cv_results_['params']):\n",
        "  print(\"%0.5f (+/-%0.05f) for %r\" % (mean, std * 2, params))\n",
        "  \n",
        "# check out best model performance\n",
        "print(\"\\nBest parameters set found on development set:\", clf.best_params_)\n",
        "print(\"Best model validation accuracy:\", clf.best_score_)"
      ],
      "execution_count": null,
      "outputs": [
        {
          "output_type": "stream",
          "text": [
            "# Tuning hyper-parameters for accuracy\n",
            "\n",
            "Grid scores for all the models based on CV:\n",
            "\n",
            "0.95218 (+/-0.06256) for {'C': 1, 'gamma': 0.001, 'kernel': 'linear'}\n",
            "0.91193 (+/-0.04607) for {'C': 1, 'gamma': 0.001, 'kernel': 'rbf'}\n",
            "0.95218 (+/-0.06256) for {'C': 1, 'gamma': 0.0001, 'kernel': 'linear'}\n",
            "0.92459 (+/-0.02287) for {'C': 1, 'gamma': 0.0001, 'kernel': 'rbf'}\n",
            "0.96228 (+/-0.04244) for {'C': 10, 'gamma': 0.001, 'kernel': 'linear'}\n",
            "0.90187 (+/-0.04735) for {'C': 10, 'gamma': 0.001, 'kernel': 'rbf'}\n",
            "0.96228 (+/-0.04244) for {'C': 10, 'gamma': 0.0001, 'kernel': 'linear'}\n",
            "0.92959 (+/-0.03449) for {'C': 10, 'gamma': 0.0001, 'kernel': 'rbf'}\n",
            "0.95718 (+/-0.05923) for {'C': 50, 'gamma': 0.001, 'kernel': 'linear'}\n",
            "0.90187 (+/-0.04735) for {'C': 50, 'gamma': 0.001, 'kernel': 'rbf'}\n",
            "0.95718 (+/-0.05923) for {'C': 50, 'gamma': 0.0001, 'kernel': 'linear'}\n",
            "0.93462 (+/-0.02969) for {'C': 50, 'gamma': 0.0001, 'kernel': 'rbf'}\n",
            "0.95468 (+/-0.05703) for {'C': 100, 'gamma': 0.001, 'kernel': 'linear'}\n",
            "0.90187 (+/-0.04735) for {'C': 100, 'gamma': 0.001, 'kernel': 'rbf'}\n",
            "0.95468 (+/-0.05703) for {'C': 100, 'gamma': 0.0001, 'kernel': 'linear'}\n",
            "0.93209 (+/-0.04688) for {'C': 100, 'gamma': 0.0001, 'kernel': 'rbf'}\n",
            "\n",
            "Best parameters set found on development set: {'C': 10, 'gamma': 0.001, 'kernel': 'linear'}\n",
            "Best model validation accuracy: 0.9622784810126582\n"
          ],
          "name": "stdout"
        }
      ]
    },
    {
      "cell_type": "code",
      "metadata": {
        "colab": {
          "base_uri": "https://localhost:8080/"
        },
        "id": "qCF_94bS-Tci",
        "outputId": "71120ed4-1e35-4cb6-a9a5-fcef3800d4f4"
      },
      "source": [
        "gs_best = clf.best_estimator_\n",
        "tuned_y_pred = gs_best.predict(X_test)\n",
        "print('\\n\\nTuned Model Stats:')\n",
        "meu.display_model_performance_metrics(true_labels=y_test, predicted_labels=tuned_y_pred, classes=[0,1])"
      ],
      "execution_count": null,
      "outputs": [
        {
          "output_type": "stream",
          "text": [
            "\n",
            "\n",
            "Tuned Model Stats:\n",
            "Model Performance metrics:\n",
            "------------------------------\n",
            "Accuracy: 0.9708\n",
            "Precision: 0.9709\n",
            "Recall: 0.9708\n",
            "F1 Score: 0.9708\n",
            "\n",
            "Model Classification report:\n",
            "------------------------------\n",
            "              precision    recall  f1-score   support\n",
            "\n",
            "           0       0.95      0.97      0.96        63\n",
            "           1       0.98      0.97      0.98       108\n",
            "\n",
            "    accuracy                           0.97       171\n",
            "   macro avg       0.97      0.97      0.97       171\n",
            "weighted avg       0.97      0.97      0.97       171\n",
            "\n",
            "\n",
            "Prediction Confusion Matrix:\n",
            "------------------------------\n",
            "          Predicted:     \n",
            "                   0    1\n",
            "Actual: 0         61    2\n",
            "        1          3  105\n"
          ],
          "name": "stdout"
        }
      ]
    },
    {
      "cell_type": "code",
      "metadata": {
        "colab": {
          "base_uri": "https://localhost:8080/"
        },
        "id": "iD1OIT7N_nEs",
        "outputId": "52cdde76-f6a2-4c7b-d137-527b615f4b59"
      },
      "source": [
        "import scipy\n",
        "from sklearn.model_selection import RandomizedSearchCV\n",
        "param_grid = {'C': scipy.stats.expon(scale=10), \n",
        "              'gamma': scipy.stats.expon(scale=.1),\n",
        "              'kernel': ['rbf', 'linear']}\n",
        "random_search = RandomizedSearchCV(SVC(random_state=42), param_distributions=param_grid,\n",
        "                                   n_iter=50, cv=5)\n",
        "random_search.fit(X_train, y_train)\n",
        "print(\"Best parameters set found on development set:\")\n",
        "random_search.best_params_"
      ],
      "execution_count": null,
      "outputs": [
        {
          "output_type": "stream",
          "text": [
            "Best parameters set found on development set:\n"
          ],
          "name": "stdout"
        },
        {
          "output_type": "execute_result",
          "data": {
            "text/plain": [
              "{'C': 14.119947529697574, 'gamma': 0.060561211183332186, 'kernel': 'linear'}"
            ]
          },
          "metadata": {
            "tags": []
          },
          "execution_count": 37
        }
      ]
    },
    {
      "cell_type": "code",
      "metadata": {
        "colab": {
          "base_uri": "https://localhost:8080/"
        },
        "id": "wCXDG5PVAIWN",
        "outputId": "7ce05a98-7100-4787-ca1c-10b5a8fd96eb"
      },
      "source": [
        "# get best model, predict and evaluate performance\n",
        "rs_best = random_search.best_estimator_\n",
        "rs_y_pred = rs_best.predict(X_test)\n",
        "meu.get_metrics(true_labels=y_test, predicted_labels=rs_y_pred)"
      ],
      "execution_count": null,
      "outputs": [
        {
          "output_type": "stream",
          "text": [
            "Accuracy: 0.9591\n",
            "Precision: 0.9593\n",
            "Recall: 0.9591\n",
            "F1 Score: 0.9591\n"
          ],
          "name": "stdout"
        }
      ]
    },
    {
      "cell_type": "markdown",
      "metadata": {
        "id": "Mc_KTstbBFMs"
      },
      "source": [
        "##### Model Interpretation"
      ]
    },
    {
      "cell_type": "code",
      "metadata": {
        "id": "AEINzVEJAjoL"
      },
      "source": [
        "#!pip install skater"
      ],
      "execution_count": null,
      "outputs": []
    },
    {
      "cell_type": "code",
      "metadata": {
        "id": "EMbq_eotBgca"
      },
      "source": [
        "#from skater.core.explanations import Interpretation\n",
        "#from skater.model import InMemoryModel\n",
        "\n",
        "#interpreter = Interpretation(X_test, feature_names=data.feature_names)\n",
        "#model = InMemoryModel(logistic.predict_proba, examples=X_train, target_names=logistic.classes_)"
      ],
      "execution_count": null,
      "outputs": []
    },
    {
      "cell_type": "code",
      "metadata": {
        "id": "3zCikNu-BvLW"
      },
      "source": [
        "#from skater.core.local_interpretation.lime.lime_tabular import LimeTabularExplainer\n",
        "#exp = LimeTabularExplainer(X_train, feature_names=data.feature_names, \n",
        "#                           discretize_continuous=True, class_names=['0', '1'])\n"
      ],
      "execution_count": null,
      "outputs": []
    },
    {
      "cell_type": "code",
      "metadata": {
        "id": "JKD086pWB9k8"
      },
      "source": [
        "# explain prediction for data point having no cancer, i.e. label 1\n",
        "#exp.explain_instance(X_test[0], logistic.predict_proba).show_in_notebook()"
      ],
      "execution_count": null,
      "outputs": []
    },
    {
      "cell_type": "code",
      "metadata": {
        "id": "MNrz75HEB_dz"
      },
      "source": [
        "# explain prediction for data point having malignant cancer, i.e. label 0\n",
        "#exp.explain_instance(X_test[1], logistic.predict_proba).show_in_notebook()"
      ],
      "execution_count": null,
      "outputs": []
    },
    {
      "cell_type": "markdown",
      "metadata": {
        "id": "02EZ_l5LCQOX"
      },
      "source": [
        "##### Model Deployment"
      ]
    },
    {
      "cell_type": "code",
      "metadata": {
        "colab": {
          "base_uri": "https://localhost:8080/"
        },
        "id": "l3rXnpL3COXZ",
        "outputId": "67a5dee6-ac2b-47de-89b9-fe8ace1b0b19"
      },
      "source": [
        "from sklearn.externals import joblib\n",
        "joblib.dump(logistic, 'lr_model.pkl')"
      ],
      "execution_count": null,
      "outputs": [
        {
          "output_type": "stream",
          "text": [
            "/usr/local/lib/python3.7/dist-packages/sklearn/externals/joblib/__init__.py:15: FutureWarning: sklearn.externals.joblib is deprecated in 0.21 and will be removed in 0.23. Please import this functionality directly from joblib, which can be installed with: pip install joblib. If this warning is raised when loading pickled models, you may need to re-serialize those models with scikit-learn 0.21+.\n",
            "  warnings.warn(msg, category=FutureWarning)\n"
          ],
          "name": "stderr"
        },
        {
          "output_type": "execute_result",
          "data": {
            "text/plain": [
              "['lr_model.pkl']"
            ]
          },
          "metadata": {
            "tags": []
          },
          "execution_count": 46
        }
      ]
    },
    {
      "cell_type": "code",
      "metadata": {
        "colab": {
          "base_uri": "https://localhost:8080/"
        },
        "id": "XzuNDXjOCVhR",
        "outputId": "f1618c31-2024-4e37-b6b7-66e99f4a4349"
      },
      "source": [
        "lr = joblib.load('lr_model.pkl') \n",
        "lr"
      ],
      "execution_count": null,
      "outputs": [
        {
          "output_type": "execute_result",
          "data": {
            "text/plain": [
              "LogisticRegression(C=1.0, class_weight=None, dual=False, fit_intercept=True,\n",
              "                   intercept_scaling=1, l1_ratio=None, max_iter=100,\n",
              "                   multi_class='auto', n_jobs=None, penalty='l2',\n",
              "                   random_state=None, solver='lbfgs', tol=0.0001, verbose=0,\n",
              "                   warm_start=False)"
            ]
          },
          "metadata": {
            "tags": []
          },
          "execution_count": 47
        }
      ]
    },
    {
      "cell_type": "code",
      "metadata": {
        "colab": {
          "base_uri": "https://localhost:8080/"
        },
        "id": "vKg7eagwCYAW",
        "outputId": "efaaad85-c70d-46a9-8a13-180192878bc5"
      },
      "source": [
        "print(lr.predict(X_test[10:11]), y_test[10:11])"
      ],
      "execution_count": null,
      "outputs": [
        {
          "output_type": "stream",
          "text": [
            "[1] [1]\n"
          ],
          "name": "stdout"
        }
      ]
    }
  ]
}